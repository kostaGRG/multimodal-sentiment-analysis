{
  "cells": [
    {
      "cell_type": "markdown",
      "source": [
        "# Testing our custom dataset"
      ],
      "metadata": {
        "id": "CpKuQBLR-toG"
      }
    },
    {
      "cell_type": "markdown",
      "source": [
        "## Mount drive/import libraries"
      ],
      "metadata": {
        "id": "T0Oe6zYb-2zy"
      }
    },
    {
      "cell_type": "code",
      "execution_count": null,
      "metadata": {
        "colab": {
          "base_uri": "https://localhost:8080/"
        },
        "id": "5vFsh2OxQ795",
        "outputId": "f3b5c32f-4413-4dd8-f6ed-d82bd81b7334"
      },
      "outputs": [
        {
          "output_type": "stream",
          "name": "stdout",
          "text": [
            "Mounted at /content/drive\n"
          ]
        }
      ],
      "source": [
        "from google.colab import drive\n",
        "drive.mount('/content/drive', force_remount=True)"
      ]
    },
    {
      "cell_type": "code",
      "source": [
        "!pip install transformers\n",
        "!pip install contractions\n",
        "\n",
        "import sys\n",
        "sys.path.append('/content/drive/My Drive/sentiment-analysis/functions')\n",
        "import sentiment_analysis_functions, text_functions, image_functions, multimodal_functions\n",
        "import torch\n",
        "\n",
        "device = torch.device('cuda' if torch.cuda.is_available() else 'cpu')"
      ],
      "metadata": {
        "colab": {
          "base_uri": "https://localhost:8080/"
        },
        "id": "SKpD_-bM4fMz",
        "outputId": "a6939910-d185-4117-a594-111ce46cea58"
      },
      "execution_count": null,
      "outputs": [
        {
          "output_type": "stream",
          "name": "stdout",
          "text": [
            "Collecting transformers\n",
            "  Downloading transformers-4.33.3-py3-none-any.whl (7.6 MB)\n",
            "\u001b[2K     \u001b[90m━━━━━━━━━━━━━━━━━━━━━━━━━━━━━━━━━━━━━━━━\u001b[0m \u001b[32m7.6/7.6 MB\u001b[0m \u001b[31m21.0 MB/s\u001b[0m eta \u001b[36m0:00:00\u001b[0m\n",
            "\u001b[?25hRequirement already satisfied: filelock in /usr/local/lib/python3.10/dist-packages (from transformers) (3.12.2)\n",
            "Collecting huggingface-hub<1.0,>=0.15.1 (from transformers)\n",
            "  Downloading huggingface_hub-0.17.3-py3-none-any.whl (295 kB)\n",
            "\u001b[2K     \u001b[90m━━━━━━━━━━━━━━━━━━━━━━━━━━━━━━━━━━━━━━\u001b[0m \u001b[32m295.0/295.0 kB\u001b[0m \u001b[31m30.1 MB/s\u001b[0m eta \u001b[36m0:00:00\u001b[0m\n",
            "\u001b[?25hRequirement already satisfied: numpy>=1.17 in /usr/local/lib/python3.10/dist-packages (from transformers) (1.23.5)\n",
            "Requirement already satisfied: packaging>=20.0 in /usr/local/lib/python3.10/dist-packages (from transformers) (23.1)\n",
            "Requirement already satisfied: pyyaml>=5.1 in /usr/local/lib/python3.10/dist-packages (from transformers) (6.0.1)\n",
            "Requirement already satisfied: regex!=2019.12.17 in /usr/local/lib/python3.10/dist-packages (from transformers) (2023.6.3)\n",
            "Requirement already satisfied: requests in /usr/local/lib/python3.10/dist-packages (from transformers) (2.31.0)\n",
            "Collecting tokenizers!=0.11.3,<0.14,>=0.11.1 (from transformers)\n",
            "  Downloading tokenizers-0.13.3-cp310-cp310-manylinux_2_17_x86_64.manylinux2014_x86_64.whl (7.8 MB)\n",
            "\u001b[2K     \u001b[90m━━━━━━━━━━━━━━━━━━━━━━━━━━━━━━━━━━━━━━━━\u001b[0m \u001b[32m7.8/7.8 MB\u001b[0m \u001b[31m37.5 MB/s\u001b[0m eta \u001b[36m0:00:00\u001b[0m\n",
            "\u001b[?25hCollecting safetensors>=0.3.1 (from transformers)\n",
            "  Downloading safetensors-0.3.3-cp310-cp310-manylinux_2_17_x86_64.manylinux2014_x86_64.whl (1.3 MB)\n",
            "\u001b[2K     \u001b[90m━━━━━━━━━━━━━━━━━━━━━━━━━━━━━━━━━━━━━━━━\u001b[0m \u001b[32m1.3/1.3 MB\u001b[0m \u001b[31m65.1 MB/s\u001b[0m eta \u001b[36m0:00:00\u001b[0m\n",
            "\u001b[?25hRequirement already satisfied: tqdm>=4.27 in /usr/local/lib/python3.10/dist-packages (from transformers) (4.66.1)\n",
            "Requirement already satisfied: fsspec in /usr/local/lib/python3.10/dist-packages (from huggingface-hub<1.0,>=0.15.1->transformers) (2023.6.0)\n",
            "Requirement already satisfied: typing-extensions>=3.7.4.3 in /usr/local/lib/python3.10/dist-packages (from huggingface-hub<1.0,>=0.15.1->transformers) (4.5.0)\n",
            "Requirement already satisfied: charset-normalizer<4,>=2 in /usr/local/lib/python3.10/dist-packages (from requests->transformers) (3.2.0)\n",
            "Requirement already satisfied: idna<4,>=2.5 in /usr/local/lib/python3.10/dist-packages (from requests->transformers) (3.4)\n",
            "Requirement already satisfied: urllib3<3,>=1.21.1 in /usr/local/lib/python3.10/dist-packages (from requests->transformers) (2.0.4)\n",
            "Requirement already satisfied: certifi>=2017.4.17 in /usr/local/lib/python3.10/dist-packages (from requests->transformers) (2023.7.22)\n",
            "Installing collected packages: tokenizers, safetensors, huggingface-hub, transformers\n",
            "Successfully installed huggingface-hub-0.17.3 safetensors-0.3.3 tokenizers-0.13.3 transformers-4.33.3\n",
            "Collecting contractions\n",
            "  Downloading contractions-0.1.73-py2.py3-none-any.whl (8.7 kB)\n",
            "Collecting textsearch>=0.0.21 (from contractions)\n",
            "  Downloading textsearch-0.0.24-py2.py3-none-any.whl (7.6 kB)\n",
            "Collecting anyascii (from textsearch>=0.0.21->contractions)\n",
            "  Downloading anyascii-0.3.2-py3-none-any.whl (289 kB)\n",
            "\u001b[2K     \u001b[90m━━━━━━━━━━━━━━━━━━━━━━━━━━━━━━━━━━━━━━━\u001b[0m \u001b[32m289.9/289.9 kB\u001b[0m \u001b[31m6.7 MB/s\u001b[0m eta \u001b[36m0:00:00\u001b[0m\n",
            "\u001b[?25hCollecting pyahocorasick (from textsearch>=0.0.21->contractions)\n",
            "  Downloading pyahocorasick-2.0.0-cp310-cp310-manylinux_2_5_x86_64.manylinux1_x86_64.manylinux_2_12_x86_64.manylinux2010_x86_64.whl (110 kB)\n",
            "\u001b[2K     \u001b[90m━━━━━━━━━━━━━━━━━━━━━━━━━━━━━━━━━━━━━━\u001b[0m \u001b[32m110.8/110.8 kB\u001b[0m \u001b[31m13.4 MB/s\u001b[0m eta \u001b[36m0:00:00\u001b[0m\n",
            "\u001b[?25hInstalling collected packages: pyahocorasick, anyascii, textsearch, contractions\n",
            "Successfully installed anyascii-0.3.2 contractions-0.1.73 pyahocorasick-2.0.0 textsearch-0.0.24\n"
          ]
        }
      ]
    },
    {
      "cell_type": "markdown",
      "source": [
        "## Load final annotations"
      ],
      "metadata": {
        "id": "DoyIIplwcoHE"
      }
    },
    {
      "cell_type": "markdown",
      "source": [
        "You have to select between the method to load the final annotations. You have to run only one of the following 3 blocks of code."
      ],
      "metadata": {
        "id": "g6za2nGc_qKz"
      }
    },
    {
      "cell_type": "markdown",
      "source": [
        "### Final annotations made by first annotator"
      ],
      "metadata": {
        "id": "JIIupuD1_gYt"
      }
    },
    {
      "cell_type": "code",
      "execution_count": null,
      "metadata": {
        "id": "MRWrmszZS_7W",
        "colab": {
          "base_uri": "https://localhost:8080/"
        },
        "outputId": "e83c8eff-ad0c-417d-9ca7-e12b5fba9265"
      },
      "outputs": [
        {
          "output_type": "stream",
          "name": "stdout",
          "text": [
            "      ID  TEXT.2  IMAGE.2  BOTH.2\n",
            "0      1     2.0      1.0     2.0\n",
            "1      2     0.0      0.0     0.0\n",
            "2      3     0.0      0.0     0.0\n",
            "3      4     0.0      0.0     0.0\n",
            "4      5     1.0      1.0     1.0\n",
            "..   ...     ...      ...     ...\n",
            "255  256     2.0      2.0     2.0\n",
            "256  257     1.0      1.0     1.0\n",
            "257  258     2.0      2.0     2.0\n",
            "258  259     2.0      1.0     2.0\n",
            "259  260     2.0      2.0     2.0\n",
            "\n",
            "[260 rows x 4 columns]\n"
          ]
        }
      ],
      "source": [
        "import numpy as np\n",
        "import pandas as pd\n",
        "xlsx_file = '/content/drive/MyDrive/sentiment-analysis/custom dataset/Custom dataset labelling.xlsx'\n",
        "df = pd.read_excel(xlsx_file, header=1)\n",
        "\n",
        "df = df.loc[0:259,['ID','TEXT.2','IMAGE.2','BOTH.2']]\n",
        "print(df)\n",
        "\n",
        "text_labels = df['TEXT.2'].to_numpy()\n",
        "image_labels = df['IMAGE.2'].to_numpy()\n",
        "multimodal_labels = df['BOTH.2'].to_numpy()\n",
        "\n",
        "images = np.load('/content/drive/MyDrive/sentiment-analysis/custom dataset/images.npy',allow_pickle=True)\n",
        "texts = np.load('/content/drive/MyDrive/sentiment-analysis/custom dataset/texts.npy')"
      ]
    },
    {
      "cell_type": "markdown",
      "source": [
        "### Exclude conflicts from the dataset"
      ],
      "metadata": {
        "id": "BK1Lvd31crY5"
      }
    },
    {
      "cell_type": "code",
      "source": [
        "import numpy as np\n",
        "import pandas as pd\n",
        "xlsx_file = '/content/drive/MyDrive/sentiment-analysis/custom dataset/Custom dataset labelling.xlsx'\n",
        "df = pd.read_excel(xlsx_file, header=1)\n",
        "\n",
        "df = df.loc[0:259,['ID','TEXT.3','IMAGE.3','BOTH.3']]\n",
        "df = df.dropna(how='any', axis=0)\n",
        "print(df)\n",
        "\n",
        "text_labels = df['TEXT.3'].to_numpy()\n",
        "image_labels = df['IMAGE.3'].to_numpy()\n",
        "multimodal_labels = df['BOTH.3'].to_numpy()\n",
        "print(np.shape(multimodal_labels))\n",
        "\n",
        "images = np.load('/content/drive/MyDrive/sentiment-analysis/custom dataset/images.npy',allow_pickle=True)\n",
        "texts = np.load('/content/drive/MyDrive/sentiment-analysis/custom dataset/texts.npy')\n",
        "\n",
        "rows_to_keep = df['ID'].values.tolist()\n",
        "rows_to_keep = [row - 1 for row in rows_to_keep]\n",
        "images = images[rows_to_keep]\n",
        "texts = texts[rows_to_keep]"
      ],
      "metadata": {
        "colab": {
          "base_uri": "https://localhost:8080/"
        },
        "id": "ANV8HJkzcxLY",
        "outputId": "5fd8da61-b49a-4c2b-b4a0-6753e5d36c7b"
      },
      "execution_count": null,
      "outputs": [
        {
          "output_type": "stream",
          "name": "stdout",
          "text": [
            "      ID  TEXT.3  IMAGE.3  BOTH.3\n",
            "0      1     2.0      1.0     2.0\n",
            "1      2     0.0      0.0     0.0\n",
            "2      3     0.0      0.0     0.0\n",
            "3      4     0.0      0.0     0.0\n",
            "6      7     0.0      0.0     0.0\n",
            "..   ...     ...      ...     ...\n",
            "254  255     2.0      2.0     2.0\n",
            "255  256     2.0      2.0     2.0\n",
            "257  258     2.0      2.0     2.0\n",
            "258  259     2.0      1.0     2.0\n",
            "259  260     2.0      2.0     2.0\n",
            "\n",
            "[179 rows x 4 columns]\n",
            "(179,)\n"
          ]
        }
      ]
    },
    {
      "cell_type": "markdown",
      "source": [
        "### Preprocessing conflicts with the same method as MVSA-Single"
      ],
      "metadata": {
        "id": "ZyaxAzSBiobI"
      }
    },
    {
      "cell_type": "code",
      "source": [
        "import numpy as np\n",
        "import pandas as pd\n",
        "\n",
        "def create_labels(df,col1,col2):\n",
        "  labels = []\n",
        "  rows_to_exclude = []\n",
        "  for ind in df.index:\n",
        "    label, exclude = labeling(df[col1][ind],df[col2][ind])\n",
        "    if exclude is True:\n",
        "      rows_to_exclude.append(ind)\n",
        "      labels.append(label)\n",
        "    else:\n",
        "      labels.append(label)\n",
        "  return labels, rows_to_exclude\n",
        "\n",
        "def labeling(label_0, label_1):\n",
        "  if label_0 == label_1:\n",
        "    return label_0,False\n",
        "  elif (label_0 == 0 and label_1 == 2) or (label_0 == 2 and label_1 == 0):\n",
        "    return -1,True\n",
        "  elif label_0 == 1:\n",
        "    return label_1, False\n",
        "  elif label_1 == 1:\n",
        "    return label_0, False\n",
        "\n",
        "xlsx_file = '/content/drive/MyDrive/sentiment-analysis/custom dataset/Custom dataset labelling.xlsx'\n",
        "df = pd.read_excel(xlsx_file, header=1)\n",
        "df = df.loc[0:259,['ID','TEXT','IMAGE','BOTH','TEXT.1','IMAGE.1','BOTH.1']]\n",
        "print(df)\n",
        "\n",
        "text_labels = []\n",
        "image_labels = []\n",
        "multimodal_labels = []\n",
        "rows_to_exclude = []\n",
        "\n",
        "text_labels,text_rows_to_exclude = create_labels(df,'TEXT','TEXT.1')\n",
        "image_labels,image_rows_to_exclude = create_labels(df,'IMAGE','IMAGE.1')\n",
        "multimodal_labels,multimodal_rows_to_exclude = create_labels(df,'BOTH','BOTH.1')\n",
        "\n",
        "print(text_rows_to_exclude)\n",
        "print(image_rows_to_exclude)\n",
        "print(multimodal_rows_to_exclude)\n",
        "\n",
        "\n",
        "exclude_set = set(text_rows_to_exclude + image_rows_to_exclude + multimodal_rows_to_exclude)\n",
        "rows_to_exclude = list(exclude_set)\n",
        "\n",
        "images = np.load('/content/drive/MyDrive/sentiment-analysis/custom dataset/images.npy',allow_pickle=True)\n",
        "texts = np.load('/content/drive/MyDrive/sentiment-analysis/custom dataset/texts.npy')\n",
        "\n",
        "text_labels = [text_labels[i] for i in range(len(text_labels)) if i not in rows_to_exclude]\n",
        "image_labels = [image_labels[i] for i in range(len(image_labels)) if i not in rows_to_exclude]\n",
        "multimodal_labels = [multimodal_labels[i] for i in range(len(multimodal_labels)) if i not in rows_to_exclude]\n",
        "images = [images[i] for i in range(len(images)) if i not in rows_to_exclude]\n",
        "texts = [texts[i] for i in range(len(texts)) if i not in rows_to_exclude]"
      ],
      "metadata": {
        "colab": {
          "base_uri": "https://localhost:8080/"
        },
        "id": "Yc2J1GcbitAS",
        "outputId": "bdb139f5-9fe1-401e-8bdb-924e0e12cbf5"
      },
      "execution_count": null,
      "outputs": [
        {
          "output_type": "stream",
          "name": "stdout",
          "text": [
            "      ID  TEXT  IMAGE  BOTH  TEXT.1  IMAGE.1  BOTH.1\n",
            "0      1   2.0    1.0   2.0     2.0      1.0     2.0\n",
            "1      2   0.0    0.0   0.0     0.0      0.0     0.0\n",
            "2      3   0.0    0.0   0.0     0.0      0.0     0.0\n",
            "3      4   0.0    0.0   0.0     0.0      0.0     0.0\n",
            "4      5   1.0    2.0   1.0     1.0      1.0     1.0\n",
            "..   ...   ...    ...   ...     ...      ...     ...\n",
            "255  256   2.0    2.0   2.0     2.0      2.0     2.0\n",
            "256  257   1.0    1.0   1.0     2.0      2.0     2.0\n",
            "257  258   2.0    2.0   2.0     2.0      2.0     2.0\n",
            "258  259   2.0    1.0   2.0     2.0      1.0     2.0\n",
            "259  260   2.0    2.0   2.0     2.0      2.0     2.0\n",
            "\n",
            "[260 rows x 7 columns]\n",
            "[172]\n",
            "[56]\n",
            "[57]\n"
          ]
        }
      ]
    },
    {
      "cell_type": "markdown",
      "source": [
        "## Load the fine tuned models (text, image and fusion) of the MVSA-Single data"
      ],
      "metadata": {
        "id": "XUOk-hcPHAsL"
      }
    },
    {
      "cell_type": "code",
      "source": [
        "from transformers import ViTModel, AutoModel\n",
        "import torch\n",
        "import torch.nn as nn\n",
        "from transformers import  AutoTokenizer, ViTImageProcessor\n",
        "\n",
        "class greekBertClassifier(nn.Module):\n",
        "    def __init__(self):\n",
        "        super(greekBertClassifier, self).__init__()\n",
        "        # Specify hidden size of BERT, hidden size of our classifier, and number of labels\n",
        "\n",
        "        self.bert = AutoModel.from_pretrained(\"/content/drive/MyDrive/sentiment-analysis/custom dataset/models/greekTextModel\")\n",
        "        D_in, H, D_out = 768, 100, 3\n",
        "        dropout = 0.5\n",
        "        self.classifier = nn.Sequential(\n",
        "            nn.Linear(D_in, H), nn.ReLU(), nn.Dropout(dropout), nn.Linear(H, D_out)\n",
        "        )\n",
        "        self.classifier.load_state_dict(\n",
        "            torch.load(\n",
        "                \"/content/drive/MyDrive/sentiment-analysis/custom dataset/models/greekTextClassifier.pt\", map_location=torch.device(\"cpu\")\n",
        "            )\n",
        "        )\n",
        "\n",
        "    def forward(self, input_ids, attention_mask):\n",
        "        outputs = self.bert(input_ids=input_ids, attention_mask=attention_mask)\n",
        "        last_hidden_state_cls = outputs[0][:, 0, :]\n",
        "        logits = self.classifier(last_hidden_state_cls)\n",
        "        return logits\n",
        "\n",
        "\n",
        "class VisualTransformer(nn.Module):\n",
        "    def __init__(self):\n",
        "        super(VisualTransformer, self).__init__()\n",
        "        D_in, H, D_out = 768, 100, 3\n",
        "        dropout = 0.2\n",
        "\n",
        "        self.vit = ViTModel.from_pretrained(\"/content/drive/MyDrive/sentiment-analysis/custom dataset/models/imageModelv2\")\n",
        "        self.classifier = nn.Sequential(\n",
        "            nn.Linear(D_in, H), nn.ReLU(), nn.Dropout(dropout), nn.Linear(H, D_out)\n",
        "        )\n",
        "\n",
        "        self.classifier.load_state_dict(\n",
        "            torch.load(\"/content/drive/MyDrive/sentiment-analysis/custom dataset/models/imageClassifier.pt\", map_location=torch.device(\"cpu\"))\n",
        "        )\n",
        "\n",
        "    def forward(self, images):\n",
        "        outputs = self.vit(images)\n",
        "        last_hidden_state_cls = outputs[0][:, 0, :]\n",
        "        logits = self.classifier(last_hidden_state_cls)\n",
        "        return logits\n",
        "\n",
        "\n",
        "class FourLayersFC(nn.Module):\n",
        "    def __init__(self, input_size, hidden_size, last_hidden_size, output_size):\n",
        "        super(FourLayersFC, self).__init__()\n",
        "        self.fc1 = nn.Linear(input_size, hidden_size)\n",
        "        self.relu1 = nn.ReLU()\n",
        "        self.fc2 = nn.Linear(hidden_size, hidden_size)\n",
        "        self.relu2 = nn.ReLU()\n",
        "        self.fc3 = nn.Linear(hidden_size, last_hidden_size)\n",
        "        self.relu3 = nn.ReLU()\n",
        "        self.fc4 = nn.Linear(last_hidden_size, output_size)\n",
        "\n",
        "    def forward(self, x):\n",
        "        out = self.fc1(x)\n",
        "        out = self.relu1(out)\n",
        "        out = self.fc2(out)\n",
        "        out = self.relu2(out)\n",
        "        out = self.fc3(out)\n",
        "        out = self.relu3(out)\n",
        "        out = self.fc4(out)\n",
        "        return out\n",
        "\n",
        "\n",
        "def load_models():\n",
        "    greekBert = greekBertClassifier()\n",
        "    greekBert.eval()\n",
        "    imageVit = VisualTransformer()\n",
        "    imageVit.eval()\n",
        "    multimodalModel = FourLayersFC(input_size=1536,hidden_size=400,last_hidden_size=300,output_size=3)\n",
        "    multimodalModel.load_state_dict(torch.load('/content/drive/MyDrive/sentiment-analysis/custom dataset/models/multimodalModelv2.pt',\n",
        "                                     map_location=torch.device('cpu')))\n",
        "    multimodalModel.eval()\n",
        "    greekTokenizer = AutoTokenizer.from_pretrained('nlpaueb/bert-base-greek-uncased-v1')\n",
        "    imageProcessor = ViTImageProcessor.from_pretrained('google/vit-base-patch16-224-in21k')\n",
        "\n",
        "    return greekBert,imageVit,multimodalModel, greekTokenizer, imageProcessor"
      ],
      "metadata": {
        "id": "VXOo_6MG3DjG"
      },
      "execution_count": null,
      "outputs": []
    },
    {
      "cell_type": "code",
      "source": [
        "batch_size = 32\n",
        "text_labels = torch.tensor(text_labels)\n",
        "image_labels = torch.tensor(image_labels)\n",
        "multimodal_labels = torch.tensor(multimodal_labels)\n",
        "\n",
        "greekBert,imageVit,multimodalModel,greekTokenizer,imageProcessor = load_models()\n",
        "greekBert.to(device)\n",
        "imageVit.to(device)\n",
        "multimodalModel.to(device)"
      ],
      "metadata": {
        "colab": {
          "base_uri": "https://localhost:8080/"
        },
        "id": "4mJyt_WJ9C35",
        "outputId": "13640855-19fb-4f7d-9812-aab0d62436e6"
      },
      "execution_count": null,
      "outputs": [
        {
          "output_type": "execute_result",
          "data": {
            "text/plain": [
              "FourLayersFC(\n",
              "  (fc1): Linear(in_features=1536, out_features=400, bias=True)\n",
              "  (relu1): ReLU()\n",
              "  (fc2): Linear(in_features=400, out_features=400, bias=True)\n",
              "  (relu2): ReLU()\n",
              "  (fc3): Linear(in_features=400, out_features=300, bias=True)\n",
              "  (relu3): ReLU()\n",
              "  (fc4): Linear(in_features=300, out_features=3, bias=True)\n",
              ")"
            ]
          },
          "metadata": {},
          "execution_count": 19
        }
      ]
    },
    {
      "cell_type": "markdown",
      "source": [
        "## Predict using the loaded models"
      ],
      "metadata": {
        "id": "NdxXNtKmH_d_"
      }
    },
    {
      "cell_type": "markdown",
      "source": [
        "### Text"
      ],
      "metadata": {
        "id": "yXyuMoBJ-NWX"
      }
    },
    {
      "cell_type": "code",
      "source": [
        "from sklearn.metrics import f1_score, accuracy_score\n",
        "import numpy as np\n",
        "from sklearn.metrics import confusion_matrix, ConfusionMatrixDisplay\n",
        "import matplotlib.pyplot as plt\n",
        "\n",
        "texts = [text_functions.text_preprocessing(text) for text in texts]\n",
        "text_dataloader = sentiment_analysis_functions.create_dataloaders(texts,text_labels,batch_size,torch.Generator(),SHUFFLE=False,type='text',tokenizer=greekTokenizer)\n",
        "probs_test, test_dataloader_labels = sentiment_analysis_functions.predict(greekBert, text_dataloader, device,'text')\n",
        "\n",
        "probs_test = np.argmax(probs_test,1)  # Get the class with the highest probability\n",
        "f1_test = f1_score(y_pred = probs_test, y_true = text_labels, average = 'weighted')\n",
        "acc_test = accuracy_score(y_pred=probs_test,y_true= text_labels)\n",
        "print(f1_test)\n",
        "print(acc_test)\n",
        "\n",
        "cm = confusion_matrix(text_labels,probs_test)\n",
        "ConfusionMatrixDisplay(cm).plot()\n",
        "plt.show()"
      ],
      "metadata": {
        "colab": {
          "base_uri": "https://localhost:8080/",
          "height": 485
        },
        "id": "MP4ejD0u6BqS",
        "outputId": "cad53d3a-ca29-456f-ecb1-2b0633463f63"
      },
      "execution_count": null,
      "outputs": [
        {
          "output_type": "stream",
          "name": "stdout",
          "text": [
            "0.7093094257947921\n",
            "0.7120622568093385\n"
          ]
        },
        {
          "output_type": "display_data",
          "data": {
            "text/plain": [
              "<Figure size 640x480 with 2 Axes>"
            ],
            "image/png": "[encoded data removed]"
          },
          "metadata": {}
        }
      ]
    },
    {
      "cell_type": "markdown",
      "source": [
        "### Image"
      ],
      "metadata": {
        "id": "0O5lCh9p-QBP"
      }
    },
    {
      "cell_type": "code",
      "source": [
        "from torch.utils.data import Dataset, DataLoader\n",
        "from torchvision.transforms import (CenterCrop,\n",
        "                                    Compose,\n",
        "                                    Normalize,\n",
        "                                    RandomHorizontalFlip,\n",
        "                                    RandomResizedCrop,\n",
        "                                    Resize,\n",
        "                                    ToTensor,\n",
        "                                    ToPILImage,\n",
        "                                    Lambda, RandomRotation,ColorJitter,RandomAffine\n",
        "                                    )\n",
        "from PIL import Image\n",
        "from sklearn.metrics import confusion_matrix, ConfusionMatrixDisplay\n",
        "import matplotlib.pyplot as plt\n",
        "\n",
        "class CustomDataset(Dataset):\n",
        "    def __init__(self, images, labels, transform=None, imageProcessor=None):\n",
        "        self.images = images\n",
        "        self.labels = labels\n",
        "        self.transform = transform\n",
        "        self.imageProcessor = imageProcessor\n",
        "\n",
        "    def __len__(self):\n",
        "        return len(self.labels)\n",
        "\n",
        "    def __getitem__(self, idx):\n",
        "        image = self.images[idx]\n",
        "        image = image\n",
        "        label = self.labels[idx]\n",
        "\n",
        "        if self.transform:\n",
        "            image = self.transform(image)\n",
        "            if self.imageProcessor is not None:\n",
        "              image = self.imageProcessor(image, return_tensors='pt')['pixel_values'][0]\n",
        "\n",
        "        return image, label\n",
        "\n",
        "image_mean = imageProcessor.image_mean\n",
        "image_std = imageProcessor.image_std\n",
        "\n",
        "images = [Image.fromarray(np.uint8(image)).convert('RGB') for image in images]\n",
        "\n",
        "\n",
        "test_transform = Compose(\n",
        "    [\n",
        "    ToTensor(),\n",
        "    Normalize(mean=image_mean,std=image_std),\n",
        "    ToPILImage()\n",
        "    ]\n",
        ")\n",
        "\n",
        "image_dataset = CustomDataset(images,image_labels,test_transform, imageProcessor)\n",
        "image_dataloader = DataLoader(\n",
        "    image_dataset,\n",
        "    shuffle=False,\n",
        "    batch_size=batch_size,\n",
        "    generator=torch.Generator()\n",
        ")\n",
        "\n",
        "\n",
        "probs_test, test_labels = sentiment_analysis_functions.predict(imageVit, image_dataloader,device,'image')\n",
        "\n",
        "print('-----------Test set-----------')\n",
        "probs_test = np.argmax(probs_test,1)  # Get the class with the highest probability\n",
        "f1_test = f1_score(y_pred = probs_test, y_true = image_labels, average = 'weighted')\n",
        "acc_test = accuracy_score(y_pred=probs_test,y_true= image_labels)\n",
        "print(f1_test)\n",
        "print(acc_test)\n",
        "\n",
        "cm = confusion_matrix(image_labels,probs_test)\n",
        "ConfusionMatrixDisplay(cm).plot()\n",
        "plt.show()"
      ],
      "metadata": {
        "colab": {
          "base_uri": "https://localhost:8080/",
          "height": 503
        },
        "id": "FxTgzEYN-ujr",
        "outputId": "a7e3742f-083c-48ce-a6cf-64c48a2eac12"
      },
      "execution_count": null,
      "outputs": [
        {
          "output_type": "stream",
          "name": "stdout",
          "text": [
            "-----------Test set-----------\n",
            "0.43404510997618284\n",
            "0.4785992217898833\n"
          ]
        },
        {
          "output_type": "display_data",
          "data": {
            "text/plain": [
              "<Figure size 640x480 with 2 Axes>"
            ],
            "image/png": "[encoded data removed]"
          },
          "metadata": {}
        }
      ]
    },
    {
      "cell_type": "markdown",
      "source": [
        "### Multimodal"
      ],
      "metadata": {
        "id": "yxXQh7nY-b43"
      }
    },
    {
      "cell_type": "code",
      "source": [
        "text_logits = sentiment_analysis_functions.calculate_logits(greekBert.bert, text_dataloader, device, 'text')\n",
        "image_logits = sentiment_analysis_functions.calculate_logits(imageVit.vit, image_dataloader, device, 'image')"
      ],
      "metadata": {
        "colab": {
          "base_uri": "https://localhost:8080/",
          "height": 81,
          "referenced_widgets": [
            "ad3f44781a574861b54e9e27576a0a3b",
            "f993bbb95a794366a3f381c3c245df71",
            "f7ba9298ba1f48bfb5605992ba30747a",
            "09aaf3a5e4a94c55926bfa8bdc5367af",
            "d08a8b14bc3346389da93c7233f6228e",
            "fd2235cea95f4c039db562c053357b7b",
            "5f4de46b794244b8a0b8fc9ef40d84f2",
            "38dc55183ef940dbbb0ff9a452d98b39",
            "934c149157074bcb959e103298f96adb",
            "0ded1f06da3c4da291032387f9bcd188",
            "a5ae8a42c9f34b45b71f7a14695d4ff3",
            "04c3683d9c2743e28d9508d1c81332e6",
            "9ef393d9e3304c7fafacd9c8ad5fefb7",
            "a19ed8df606e43c39804cbee856bc9f7",
            "9a9ac31ef9db46fc84281b0664075774",
            "41b158eec8684e348d901e6019b108dc",
            "b5a068ef4fa6466c91d5c94a47e1e838",
            "36baa9713470439a87c22860ef887f6b",
            "c2242277435b4cf59abebd59d9bfab6d",
            "956c160f39a540689636f7b445631196",
            "4ed67a1faae944e7abd385019b3edbf5",
            "4d259c79d3174c2ba9f5894b97bde5ee"
          ]
        },
        "id": "64oJzY9i-dES",
        "outputId": "f983e977-17f2-4ad0-e876-bb8f443e1f88"
      },
      "execution_count": null,
      "outputs": [
        {
          "output_type": "display_data",
          "data": {
            "text/plain": [
              "  0%|          | 0/9 [00:00<?, ?it/s]"
            ],
            "application/vnd.jupyter.widget-view+json": {
              "version_major": 2,
              "version_minor": 0,
              "model_id": "ad3f44781a574861b54e9e27576a0a3b"
            }
          },
          "metadata": {}
        },
        {
          "output_type": "display_data",
          "data": {
            "text/plain": [
              "  0%|          | 0/9 [00:00<?, ?it/s]"
            ],
            "application/vnd.jupyter.widget-view+json": {
              "version_major": 2,
              "version_minor": 0,
              "model_id": "04c3683d9c2743e28d9508d1c81332e6"
            }
          },
          "metadata": {}
        }
      ]
    },
    {
      "cell_type": "code",
      "source": [
        "multimodal = np.concatenate((text_logits,image_logits),1)\n",
        "multimodal = torch.stack([torch.tensor(data,dtype=torch.float32) for data in multimodal])\n",
        "\n",
        "multimodal_dataloader = sentiment_analysis_functions.create_dataloaders(multimodal,multimodal_labels,batch_size,torch.Generator(),False,'image')\n",
        "probs_test, test_dataloader_labels = sentiment_analysis_functions.predict(multimodalModel, multimodal_dataloader,device,'image')\n",
        "\n",
        "print('-----------Test set-----------')\n",
        "probs_test = np.argmax(probs_test,1)\n",
        "f1_test = f1_score(y_pred = probs_test, y_true = test_dataloader_labels, average = 'weighted')\n",
        "acc_test = accuracy_score(y_pred=probs_test,y_true= test_dataloader_labels)\n",
        "print(f1_test)\n",
        "print(acc_test)"
      ],
      "metadata": {
        "colab": {
          "base_uri": "https://localhost:8080/"
        },
        "id": "v5fIMw6IDHA3",
        "outputId": "0165b8f7-4a62-4166-84db-a6f332f36d5c"
      },
      "execution_count": null,
      "outputs": [
        {
          "output_type": "stream",
          "name": "stdout",
          "text": [
            "-----------Test set-----------\n",
            "0.4057760947338313\n",
            "0.4785992217898833\n"
          ]
        }
      ]
    }
  ],
  "metadata": {
    "colab": {
      "provenance": [],
      "gpuType": "T4"
    },
    "kernelspec": {
      "display_name": "Python 3",
      "name": "python3"
    },
    "language_info": {
      "name": "python"
    },
    "accelerator": "GPU",
    "widgets": {
      "application/vnd.jupyter.widget-state+json": {
        "ad3f44781a574861b54e9e27576a0a3b": {
          "model_module": "@jupyter-widgets/controls",
          "model_name": "HBoxModel",
          "model_module_version": "1.5.0",
          "state": {
            "_dom_classes": [],
            "_model_module": "@jupyter-widgets/controls",
            "_model_module_version": "1.5.0",
            "_model_name": "HBoxModel",
            "_view_count": null,
            "_view_module": "@jupyter-widgets/controls",
            "_view_module_version": "1.5.0",
            "_view_name": "HBoxView",
            "box_style": "",
            "children": [
              "IPY_MODEL_f993bbb95a794366a3f381c3c245df71",
              "IPY_MODEL_f7ba9298ba1f48bfb5605992ba30747a",
              "IPY_MODEL_09aaf3a5e4a94c55926bfa8bdc5367af"
            ],
            "layout": "IPY_MODEL_d08a8b14bc3346389da93c7233f6228e"
          }
        },
        "f993bbb95a794366a3f381c3c245df71": {
          "model_module": "@jupyter-widgets/controls",
          "model_name": "HTMLModel",
          "model_module_version": "1.5.0",
          "state": {
            "_dom_classes": [],
            "_model_module": "@jupyter-widgets/controls",
            "_model_module_version": "1.5.0",
            "_model_name": "HTMLModel",
            "_view_count": null,
            "_view_module": "@jupyter-widgets/controls",
            "_view_module_version": "1.5.0",
            "_view_name": "HTMLView",
            "description": "",
            "description_tooltip": null,
            "layout": "IPY_MODEL_fd2235cea95f4c039db562c053357b7b",
            "placeholder": "​",
            "style": "IPY_MODEL_5f4de46b794244b8a0b8fc9ef40d84f2",
            "value": "100%"
          }
        },
        "f7ba9298ba1f48bfb5605992ba30747a": {
          "model_module": "@jupyter-widgets/controls",
          "model_name": "FloatProgressModel",
          "model_module_version": "1.5.0",
          "state": {
            "_dom_classes": [],
            "_model_module": "@jupyter-widgets/controls",
            "_model_module_version": "1.5.0",
            "_model_name": "FloatProgressModel",
            "_view_count": null,
            "_view_module": "@jupyter-widgets/controls",
            "_view_module_version": "1.5.0",
            "_view_name": "ProgressView",
            "bar_style": "success",
            "description": "",
            "description_tooltip": null,
            "layout": "IPY_MODEL_38dc55183ef940dbbb0ff9a452d98b39",
            "max": 9,
            "min": 0,
            "orientation": "horizontal",
            "style": "IPY_MODEL_934c149157074bcb959e103298f96adb",
            "value": 9
          }
        },
        "09aaf3a5e4a94c55926bfa8bdc5367af": {
          "model_module": "@jupyter-widgets/controls",
          "model_name": "HTMLModel",
          "model_module_version": "1.5.0",
          "state": {
            "_dom_classes": [],
            "_model_module": "@jupyter-widgets/controls",
            "_model_module_version": "1.5.0",
            "_model_name": "HTMLModel",
            "_view_count": null,
            "_view_module": "@jupyter-widgets/controls",
            "_view_module_version": "1.5.0",
            "_view_name": "HTMLView",
            "description": "",
            "description_tooltip": null,
            "layout": "IPY_MODEL_0ded1f06da3c4da291032387f9bcd188",
            "placeholder": "​",
            "style": "IPY_MODEL_a5ae8a42c9f34b45b71f7a14695d4ff3",
            "value": " 9/9 [00:02&lt;00:00,  2.92it/s]"
          }
        },
        "d08a8b14bc3346389da93c7233f6228e": {
          "model_module": "@jupyter-widgets/base",
          "model_name": "LayoutModel",
          "model_module_version": "1.2.0",
          "state": {
            "_model_module": "@jupyter-widgets/base",
            "_model_module_version": "1.2.0",
            "_model_name": "LayoutModel",
            "_view_count": null,
            "_view_module": "@jupyter-widgets/base",
            "_view_module_version": "1.2.0",
            "_view_name": "LayoutView",
            "align_content": null,
            "align_items": null,
            "align_self": null,
            "border": null,
            "bottom": null,
            "display": null,
            "flex": null,
            "flex_flow": null,
            "grid_area": null,
            "grid_auto_columns": null,
            "grid_auto_flow": null,
            "grid_auto_rows": null,
            "grid_column": null,
            "grid_gap": null,
            "grid_row": null,
            "grid_template_areas": null,
            "grid_template_columns": null,
            "grid_template_rows": null,
            "height": null,
            "justify_content": null,
            "justify_items": null,
            "left": null,
            "margin": null,
            "max_height": null,
            "max_width": null,
            "min_height": null,
            "min_width": null,
            "object_fit": null,
            "object_position": null,
            "order": null,
            "overflow": null,
            "overflow_x": null,
            "overflow_y": null,
            "padding": null,
            "right": null,
            "top": null,
            "visibility": null,
            "width": null
          }
        },
        "fd2235cea95f4c039db562c053357b7b": {
          "model_module": "@jupyter-widgets/base",
          "model_name": "LayoutModel",
          "model_module_version": "1.2.0",
          "state": {
            "_model_module": "@jupyter-widgets/base",
            "_model_module_version": "1.2.0",
            "_model_name": "LayoutModel",
            "_view_count": null,
            "_view_module": "@jupyter-widgets/base",
            "_view_module_version": "1.2.0",
            "_view_name": "LayoutView",
            "align_content": null,
            "align_items": null,
            "align_self": null,
            "border": null,
            "bottom": null,
            "display": null,
            "flex": null,
            "flex_flow": null,
            "grid_area": null,
            "grid_auto_columns": null,
            "grid_auto_flow": null,
            "grid_auto_rows": null,
            "grid_column": null,
            "grid_gap": null,
            "grid_row": null,
            "grid_template_areas": null,
            "grid_template_columns": null,
            "grid_template_rows": null,
            "height": null,
            "justify_content": null,
            "justify_items": null,
            "left": null,
            "margin": null,
            "max_height": null,
            "max_width": null,
            "min_height": null,
            "min_width": null,
            "object_fit": null,
            "object_position": null,
            "order": null,
            "overflow": null,
            "overflow_x": null,
            "overflow_y": null,
            "padding": null,
            "right": null,
            "top": null,
            "visibility": null,
            "width": null
          }
        },
        "5f4de46b794244b8a0b8fc9ef40d84f2": {
          "model_module": "@jupyter-widgets/controls",
          "model_name": "DescriptionStyleModel",
          "model_module_version": "1.5.0",
          "state": {
            "_model_module": "@jupyter-widgets/controls",
            "_model_module_version": "1.5.0",
            "_model_name": "DescriptionStyleModel",
            "_view_count": null,
            "_view_module": "@jupyter-widgets/base",
            "_view_module_version": "1.2.0",
            "_view_name": "StyleView",
            "description_width": ""
          }
        },
        "38dc55183ef940dbbb0ff9a452d98b39": {
          "model_module": "@jupyter-widgets/base",
          "model_name": "LayoutModel",
          "model_module_version": "1.2.0",
          "state": {
            "_model_module": "@jupyter-widgets/base",
            "_model_module_version": "1.2.0",
            "_model_name": "LayoutModel",
            "_view_count": null,
            "_view_module": "@jupyter-widgets/base",
            "_view_module_version": "1.2.0",
            "_view_name": "LayoutView",
            "align_content": null,
            "align_items": null,
            "align_self": null,
            "border": null,
            "bottom": null,
            "display": null,
            "flex": null,
            "flex_flow": null,
            "grid_area": null,
            "grid_auto_columns": null,
            "grid_auto_flow": null,
            "grid_auto_rows": null,
            "grid_column": null,
            "grid_gap": null,
            "grid_row": null,
            "grid_template_areas": null,
            "grid_template_columns": null,
            "grid_template_rows": null,
            "height": null,
            "justify_content": null,
            "justify_items": null,
            "left": null,
            "margin": null,
            "max_height": null,
            "max_width": null,
            "min_height": null,
            "min_width": null,
            "object_fit": null,
            "object_position": null,
            "order": null,
            "overflow": null,
            "overflow_x": null,
            "overflow_y": null,
            "padding": null,
            "right": null,
            "top": null,
            "visibility": null,
            "width": null
          }
        },
        "934c149157074bcb959e103298f96adb": {
          "model_module": "@jupyter-widgets/controls",
          "model_name": "ProgressStyleModel",
          "model_module_version": "1.5.0",
          "state": {
            "_model_module": "@jupyter-widgets/controls",
            "_model_module_version": "1.5.0",
            "_model_name": "ProgressStyleModel",
            "_view_count": null,
            "_view_module": "@jupyter-widgets/base",
            "_view_module_version": "1.2.0",
            "_view_name": "StyleView",
            "bar_color": null,
            "description_width": ""
          }
        },
        "0ded1f06da3c4da291032387f9bcd188": {
          "model_module": "@jupyter-widgets/base",
          "model_name": "LayoutModel",
          "model_module_version": "1.2.0",
          "state": {
            "_model_module": "@jupyter-widgets/base",
            "_model_module_version": "1.2.0",
            "_model_name": "LayoutModel",
            "_view_count": null,
            "_view_module": "@jupyter-widgets/base",
            "_view_module_version": "1.2.0",
            "_view_name": "LayoutView",
            "align_content": null,
            "align_items": null,
            "align_self": null,
            "border": null,
            "bottom": null,
            "display": null,
            "flex": null,
            "flex_flow": null,
            "grid_area": null,
            "grid_auto_columns": null,
            "grid_auto_flow": null,
            "grid_auto_rows": null,
            "grid_column": null,
            "grid_gap": null,
            "grid_row": null,
            "grid_template_areas": null,
            "grid_template_columns": null,
            "grid_template_rows": null,
            "height": null,
            "justify_content": null,
            "justify_items": null,
            "left": null,
            "margin": null,
            "max_height": null,
            "max_width": null,
            "min_height": null,
            "min_width": null,
            "object_fit": null,
            "object_position": null,
            "order": null,
            "overflow": null,
            "overflow_x": null,
            "overflow_y": null,
            "padding": null,
            "right": null,
            "top": null,
            "visibility": null,
            "width": null
          }
        },
        "a5ae8a42c9f34b45b71f7a14695d4ff3": {
          "model_module": "@jupyter-widgets/controls",
          "model_name": "DescriptionStyleModel",
          "model_module_version": "1.5.0",
          "state": {
            "_model_module": "@jupyter-widgets/controls",
            "_model_module_version": "1.5.0",
            "_model_name": "DescriptionStyleModel",
            "_view_count": null,
            "_view_module": "@jupyter-widgets/base",
            "_view_module_version": "1.2.0",
            "_view_name": "StyleView",
            "description_width": ""
          }
        },
        "04c3683d9c2743e28d9508d1c81332e6": {
          "model_module": "@jupyter-widgets/controls",
          "model_name": "HBoxModel",
          "model_module_version": "1.5.0",
          "state": {
            "_dom_classes": [],
            "_model_module": "@jupyter-widgets/controls",
            "_model_module_version": "1.5.0",
            "_model_name": "HBoxModel",
            "_view_count": null,
            "_view_module": "@jupyter-widgets/controls",
            "_view_module_version": "1.5.0",
            "_view_name": "HBoxView",
            "box_style": "",
            "children": [
              "IPY_MODEL_9ef393d9e3304c7fafacd9c8ad5fefb7",
              "IPY_MODEL_a19ed8df606e43c39804cbee856bc9f7",
              "IPY_MODEL_9a9ac31ef9db46fc84281b0664075774"
            ],
            "layout": "IPY_MODEL_41b158eec8684e348d901e6019b108dc"
          }
        },
        "9ef393d9e3304c7fafacd9c8ad5fefb7": {
          "model_module": "@jupyter-widgets/controls",
          "model_name": "HTMLModel",
          "model_module_version": "1.5.0",
          "state": {
            "_dom_classes": [],
            "_model_module": "@jupyter-widgets/controls",
            "_model_module_version": "1.5.0",
            "_model_name": "HTMLModel",
            "_view_count": null,
            "_view_module": "@jupyter-widgets/controls",
            "_view_module_version": "1.5.0",
            "_view_name": "HTMLView",
            "description": "",
            "description_tooltip": null,
            "layout": "IPY_MODEL_b5a068ef4fa6466c91d5c94a47e1e838",
            "placeholder": "​",
            "style": "IPY_MODEL_36baa9713470439a87c22860ef887f6b",
            "value": "100%"
          }
        },
        "a19ed8df606e43c39804cbee856bc9f7": {
          "model_module": "@jupyter-widgets/controls",
          "model_name": "FloatProgressModel",
          "model_module_version": "1.5.0",
          "state": {
            "_dom_classes": [],
            "_model_module": "@jupyter-widgets/controls",
            "_model_module_version": "1.5.0",
            "_model_name": "FloatProgressModel",
            "_view_count": null,
            "_view_module": "@jupyter-widgets/controls",
            "_view_module_version": "1.5.0",
            "_view_name": "ProgressView",
            "bar_style": "success",
            "description": "",
            "description_tooltip": null,
            "layout": "IPY_MODEL_c2242277435b4cf59abebd59d9bfab6d",
            "max": 9,
            "min": 0,
            "orientation": "horizontal",
            "style": "IPY_MODEL_956c160f39a540689636f7b445631196",
            "value": 9
          }
        },
        "9a9ac31ef9db46fc84281b0664075774": {
          "model_module": "@jupyter-widgets/controls",
          "model_name": "HTMLModel",
          "model_module_version": "1.5.0",
          "state": {
            "_dom_classes": [],
            "_model_module": "@jupyter-widgets/controls",
            "_model_module_version": "1.5.0",
            "_model_name": "HTMLModel",
            "_view_count": null,
            "_view_module": "@jupyter-widgets/controls",
            "_view_module_version": "1.5.0",
            "_view_name": "HTMLView",
            "description": "",
            "description_tooltip": null,
            "layout": "IPY_MODEL_4ed67a1faae944e7abd385019b3edbf5",
            "placeholder": "​",
            "style": "IPY_MODEL_4d259c79d3174c2ba9f5894b97bde5ee",
            "value": " 9/9 [00:11&lt;00:00,  1.06it/s]"
          }
        },
        "41b158eec8684e348d901e6019b108dc": {
          "model_module": "@jupyter-widgets/base",
          "model_name": "LayoutModel",
          "model_module_version": "1.2.0",
          "state": {
            "_model_module": "@jupyter-widgets/base",
            "_model_module_version": "1.2.0",
            "_model_name": "LayoutModel",
            "_view_count": null,
            "_view_module": "@jupyter-widgets/base",
            "_view_module_version": "1.2.0",
            "_view_name": "LayoutView",
            "align_content": null,
            "align_items": null,
            "align_self": null,
            "border": null,
            "bottom": null,
            "display": null,
            "flex": null,
            "flex_flow": null,
            "grid_area": null,
            "grid_auto_columns": null,
            "grid_auto_flow": null,
            "grid_auto_rows": null,
            "grid_column": null,
            "grid_gap": null,
            "grid_row": null,
            "grid_template_areas": null,
            "grid_template_columns": null,
            "grid_template_rows": null,
            "height": null,
            "justify_content": null,
            "justify_items": null,
            "left": null,
            "margin": null,
            "max_height": null,
            "max_width": null,
            "min_height": null,
            "min_width": null,
            "object_fit": null,
            "object_position": null,
            "order": null,
            "overflow": null,
            "overflow_x": null,
            "overflow_y": null,
            "padding": null,
            "right": null,
            "top": null,
            "visibility": null,
            "width": null
          }
        },
        "b5a068ef4fa6466c91d5c94a47e1e838": {
          "model_module": "@jupyter-widgets/base",
          "model_name": "LayoutModel",
          "model_module_version": "1.2.0",
          "state": {
            "_model_module": "@jupyter-widgets/base",
            "_model_module_version": "1.2.0",
            "_model_name": "LayoutModel",
            "_view_count": null,
            "_view_module": "@jupyter-widgets/base",
            "_view_module_version": "1.2.0",
            "_view_name": "LayoutView",
            "align_content": null,
            "align_items": null,
            "align_self": null,
            "border": null,
            "bottom": null,
            "display": null,
            "flex": null,
            "flex_flow": null,
            "grid_area": null,
            "grid_auto_columns": null,
            "grid_auto_flow": null,
            "grid_auto_rows": null,
            "grid_column": null,
            "grid_gap": null,
            "grid_row": null,
            "grid_template_areas": null,
            "grid_template_columns": null,
            "grid_template_rows": null,
            "height": null,
            "justify_content": null,
            "justify_items": null,
            "left": null,
            "margin": null,
            "max_height": null,
            "max_width": null,
            "min_height": null,
            "min_width": null,
            "object_fit": null,
            "object_position": null,
            "order": null,
            "overflow": null,
            "overflow_x": null,
            "overflow_y": null,
            "padding": null,
            "right": null,
            "top": null,
            "visibility": null,
            "width": null
          }
        },
        "36baa9713470439a87c22860ef887f6b": {
          "model_module": "@jupyter-widgets/controls",
          "model_name": "DescriptionStyleModel",
          "model_module_version": "1.5.0",
          "state": {
            "_model_module": "@jupyter-widgets/controls",
            "_model_module_version": "1.5.0",
            "_model_name": "DescriptionStyleModel",
            "_view_count": null,
            "_view_module": "@jupyter-widgets/base",
            "_view_module_version": "1.2.0",
            "_view_name": "StyleView",
            "description_width": ""
          }
        },
        "c2242277435b4cf59abebd59d9bfab6d": {
          "model_module": "@jupyter-widgets/base",
          "model_name": "LayoutModel",
          "model_module_version": "1.2.0",
          "state": {
            "_model_module": "@jupyter-widgets/base",
            "_model_module_version": "1.2.0",
            "_model_name": "LayoutModel",
            "_view_count": null,
            "_view_module": "@jupyter-widgets/base",
            "_view_module_version": "1.2.0",
            "_view_name": "LayoutView",
            "align_content": null,
            "align_items": null,
            "align_self": null,
            "border": null,
            "bottom": null,
            "display": null,
            "flex": null,
            "flex_flow": null,
            "grid_area": null,
            "grid_auto_columns": null,
            "grid_auto_flow": null,
            "grid_auto_rows": null,
            "grid_column": null,
            "grid_gap": null,
            "grid_row": null,
            "grid_template_areas": null,
            "grid_template_columns": null,
            "grid_template_rows": null,
            "height": null,
            "justify_content": null,
            "justify_items": null,
            "left": null,
            "margin": null,
            "max_height": null,
            "max_width": null,
            "min_height": null,
            "min_width": null,
            "object_fit": null,
            "object_position": null,
            "order": null,
            "overflow": null,
            "overflow_x": null,
            "overflow_y": null,
            "padding": null,
            "right": null,
            "top": null,
            "visibility": null,
            "width": null
          }
        },
        "956c160f39a540689636f7b445631196": {
          "model_module": "@jupyter-widgets/controls",
          "model_name": "ProgressStyleModel",
          "model_module_version": "1.5.0",
          "state": {
            "_model_module": "@jupyter-widgets/controls",
            "_model_module_version": "1.5.0",
            "_model_name": "ProgressStyleModel",
            "_view_count": null,
            "_view_module": "@jupyter-widgets/base",
            "_view_module_version": "1.2.0",
            "_view_name": "StyleView",
            "bar_color": null,
            "description_width": ""
          }
        },
        "4ed67a1faae944e7abd385019b3edbf5": {
          "model_module": "@jupyter-widgets/base",
          "model_name": "LayoutModel",
          "model_module_version": "1.2.0",
          "state": {
            "_model_module": "@jupyter-widgets/base",
            "_model_module_version": "1.2.0",
            "_model_name": "LayoutModel",
            "_view_count": null,
            "_view_module": "@jupyter-widgets/base",
            "_view_module_version": "1.2.0",
            "_view_name": "LayoutView",
            "align_content": null,
            "align_items": null,
            "align_self": null,
            "border": null,
            "bottom": null,
            "display": null,
            "flex": null,
            "flex_flow": null,
            "grid_area": null,
            "grid_auto_columns": null,
            "grid_auto_flow": null,
            "grid_auto_rows": null,
            "grid_column": null,
            "grid_gap": null,
            "grid_row": null,
            "grid_template_areas": null,
            "grid_template_columns": null,
            "grid_template_rows": null,
            "height": null,
            "justify_content": null,
            "justify_items": null,
            "left": null,
            "margin": null,
            "max_height": null,
            "max_width": null,
            "min_height": null,
            "min_width": null,
            "object_fit": null,
            "object_position": null,
            "order": null,
            "overflow": null,
            "overflow_x": null,
            "overflow_y": null,
            "padding": null,
            "right": null,
            "top": null,
            "visibility": null,
            "width": null
          }
        },
        "4d259c79d3174c2ba9f5894b97bde5ee": {
          "model_module": "@jupyter-widgets/controls",
          "model_name": "DescriptionStyleModel",
          "model_module_version": "1.5.0",
          "state": {
            "_model_module": "@jupyter-widgets/controls",
            "_model_module_version": "1.5.0",
            "_model_name": "DescriptionStyleModel",
            "_view_count": null,
            "_view_module": "@jupyter-widgets/base",
            "_view_module_version": "1.2.0",
            "_view_name": "StyleView",
            "description_width": ""
          }
        }
      }
    }
  },
  "nbformat": 4,
  "nbformat_minor": 0
}